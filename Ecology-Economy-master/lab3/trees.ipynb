{
 "cells": [
  {
   "cell_type": "code",
   "execution_count": 1,
   "metadata": {},
   "outputs": [],
   "source": [
    "import numpy as np"
   ]
  },
  {
   "cell_type": "code",
   "execution_count": 2,
   "metadata": {},
   "outputs": [],
   "source": [
    "def L(x, y=None):\n",
    "    if y is None:\n",
    "        y = x\n",
    "    return np.array([[0.72 - x,  0       ,  0       ,  3.6*(y - 1),  5.1*(y - 1),  7.5*y],\n",
    "                     [0.28    ,  0.69 - x,  0       ,  0          ,  0          ,  0    ],\n",
    "                     [0       ,  0.31    ,  0.75 - x,  0          ,  0          ,  0    ],\n",
    "                     [0       ,  0       ,  0.25    ,  0.77 - x   ,  0          ,  0    ],\n",
    "                     [0       ,  0       ,  0       ,  0.23       ,  0.63 - x   ,  0    ],\n",
    "                     [0       ,  0       ,  0       ,  0          ,  0.37       ,  -x   ]])"
   ]
  },
  {
   "cell_type": "code",
   "execution_count": 3,
   "metadata": {},
   "outputs": [],
   "source": [
    "def linear_search():\n",
    "    for x in np.linspace(1.1, 1.3, 10**6):        # I actually know that 1.1 < eigvalue < 1.3 and it's single\n",
    "        Lx = L(x)\n",
    "        det = np.linalg.det(Lx)\n",
    "        if np.abs(det) < 10**-6:\n",
    "            return x, Lx"
   ]
  },
  {
   "cell_type": "code",
   "execution_count": 4,
   "metadata": {},
   "outputs": [
    {
     "data": {
      "text/plain": [
       "1.2042621042621042"
      ]
     },
     "execution_count": 4,
     "metadata": {},
     "output_type": "execute_result"
    }
   ],
   "source": [
    "x, Lx = linear_search()\n",
    "x                                                 # eigvalue, population grow intensity"
   ]
  },
  {
   "cell_type": "code",
   "execution_count": 5,
   "metadata": {},
   "outputs": [
    {
     "name": "stdout",
     "output_type": "stream",
     "text": [
      "[0.81970288 0.44630289 0.3045679  0.17533545 0.07022334 0.02157505]\n"
     ]
    }
   ],
   "source": [
    "e_vals, e_vecs = np.linalg.eig(np.dot(Lx.T, Lx))  \n",
    "v = e_vecs[:, np.argmin(e_vals)]                  # eigvector, stationary population vector  \n",
    "print(v)"
   ]
  },
  {
   "cell_type": "code",
   "execution_count": 6,
   "metadata": {},
   "outputs": [],
   "source": [
    "Lstationary = L(0, x)                             # pass eigvalue to a non-diagonal part of Leslie matrix"
   ]
  },
  {
   "cell_type": "code",
   "execution_count": 7,
   "metadata": {},
   "outputs": [
    {
     "name": "stdout",
     "output_type": "stream",
     "text": [
      "[8.30564897e-08 1.43649647e-07 2.38303223e-07 4.33009672e-07\n",
      " 5.52020890e-07 6.22923649e-07]\n"
     ]
    }
   ],
   "source": [
    "zero_hope = Lstationary @ v - x * v\n",
    "print(zero_hope)                                  # relatively zero vector"
   ]
  },
  {
   "cell_type": "code",
   "execution_count": 8,
   "metadata": {},
   "outputs": [
    {
     "data": {
      "text/plain": [
       "16.96159860375771"
      ]
     },
     "execution_count": 8,
     "metadata": {},
     "output_type": "execute_result"
    }
   ],
   "source": [
    "H = (1 - 1 / x) * 100\n",
    "H                                                 # % of trees we can cut down to preserve previous state"
   ]
  },
  {
   "cell_type": "code",
   "execution_count": 9,
   "metadata": {},
   "outputs": [
    {
     "name": "stdout",
     "output_type": "stream",
     "text": [
      "generation 0:  [0.82 0.45 0.3  0.18 0.07 0.02]\n",
      "generation 1:  [0.99 0.54 0.37 0.21 0.08 0.03]\n",
      "generation 2:  [1.19 0.65 0.44 0.25 0.1  0.03]\n",
      "generation 3:  [1.43 0.78 0.53 0.31 0.12 0.04]\n",
      "generation 4:  [1.72 0.94 0.64 0.37 0.15 0.05]\n",
      "generation 5:  [2.08 1.13 0.77 0.44 0.18 0.05]\n",
      "generation 6:  [2.5  1.36 0.93 0.53 0.21 0.07]\n",
      "generation 7:  [3.01 1.64 1.12 0.64 0.26 0.08]\n",
      "generation 8:  [3.63 1.97 1.35 0.78 0.31 0.1 ]\n",
      "generation 9:  [4.37 2.38 1.62 0.93 0.37 0.11]\n",
      "Now we can cut down 84.41% and come back to initial state: [0.82 0.45 0.3  0.18 0.07 0.02]\n"
     ]
    }
   ],
   "source": [
    "x0 = v                                            # lets model some steps of population being     \n",
    "x_prev = x0\n",
    "x_next = x0\n",
    "for i in range(10):\n",
    "    print(f\"generation {i}: \", np.round(x_prev, 2))\n",
    "    x_next = Lstationary @ x_prev                                     \n",
    "    x_prev = x_next\n",
    "    \n",
    "x_initial = x_next / x ** 10\n",
    "cut = np.round(1 - 1 / x**10, 4) * 100\n",
    "print(f'Now we can cut down {cut}% and come back to initial state:', np.round(x_initial, 2))"
   ]
  }
 ],
 "metadata": {
  "kernelspec": {
   "display_name": "condaenv",
   "language": "python",
   "name": "condaenv"
  },
  "language_info": {
   "codemirror_mode": {
    "name": "ipython",
    "version": 3
   },
   "file_extension": ".py",
   "mimetype": "text/x-python",
   "name": "python",
   "nbconvert_exporter": "python",
   "pygments_lexer": "ipython3",
   "version": "3.6.10"
  }
 },
 "nbformat": 4,
 "nbformat_minor": 4
}
